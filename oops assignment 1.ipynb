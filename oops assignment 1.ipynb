{
 "cells": [
  {
   "cell_type": "markdown",
   "id": "f4be5f30-9ff1-4ae7-81a5-86aa675a1cd5",
   "metadata": {},
   "source": [
    " 1. A Class in OOP's is a blueprint which defines some properties and behaviour.\n",
    "e.g. mobile phone is a class of various phones.\n",
    " An object is a single inheritance of a class which contains data and methods working on that data.\n",
    " relation between class and object: A class is a template for object.\n",
    " e.g. samsung galaxy is an object with brand name,2gb RAM as properties, and calling and texting as behaviours."
   ]
  },
  {
   "cell_type": "markdown",
   "id": "13689780-4662-4205-973a-2d540464b5d7",
   "metadata": {},
   "source": [
    "2. Four pillars of OOP's:\n",
    "Inheritance, Polymorphism, Encapsulation, Abstraction"
   ]
  },
  {
   "cell_type": "markdown",
   "id": "9d66c5b8-ce3b-4eac-a823-ffa9108317f8",
   "metadata": {},
   "source": [
    "3. 'init' is a Constructor in OOP's concept : it allows the class to initialize the attributes of a class.\n",
    "e.g. "
   ]
  },
  {
   "cell_type": "code",
   "execution_count": 1,
   "id": "05e45724-14f5-401f-87d2-67f2d431dd0b",
   "metadata": {},
   "outputs": [],
   "source": [
    "class Car:\n",
    "    def __init__(self,model,color,speed):\n",
    "        self.color = color\n",
    "        self.speed = speed\n",
    "        self.model = model\n",
    "    def start(self):\n",
    "        print(\"started\")\n",
    "    def accelerate(self):\n",
    "        print(\"accelerating...\")\n",
    "    def change_gear(self,gear_type):\n",
    "        print(\"gear changed\")"
   ]
  },
  {
   "cell_type": "code",
   "execution_count": 2,
   "id": "999ceaa9-67de-41ea-8b8d-4a52790e0ecd",
   "metadata": {},
   "outputs": [],
   "source": [
    "car1=Car('bmw', 'black',140)"
   ]
  },
  {
   "cell_type": "code",
   "execution_count": 3,
   "id": "33bfcbf2-249f-49dc-8eb5-cc4cf984f6a9",
   "metadata": {},
   "outputs": [
    {
     "name": "stdout",
     "output_type": "stream",
     "text": [
      "accelerating...\n"
     ]
    }
   ],
   "source": [
    "car1.accelerate()"
   ]
  },
  {
   "cell_type": "markdown",
   "id": "8e2e0ae4-7599-4590-ae38-4e06adf869c5",
   "metadata": {},
   "source": [
    "4. self rpresents the instance of the class. By using th 'self' we can access the arributes and methods of the class in python. \n",
    "It binds the attributes with the given argument."
   ]
  },
  {
   "cell_type": "markdown",
   "id": "be6619e7-e2a7-4b76-a186-8965db8f24f5",
   "metadata": {},
   "source": [
    "5.  Inheritence in oops: When a class is derives from another class."
   ]
  },
  {
   "cell_type": "markdown",
   "id": "c0ec371a-f137-492b-8757-4f8ae453e79b",
   "metadata": {},
   "source": [
    "Types of inheritence: 1)Single  2)Multiple  3)Multilevel  4)Hierarchical  5)Hybrid"
   ]
  },
  {
   "cell_type": "markdown",
   "id": "844912c3-e065-4dc2-94e2-af16a718dfa3",
   "metadata": {},
   "source": [
    "Single Inheritence: when a class inherits another class. e.g. Dog class inherits the Animal class"
   ]
  },
  {
   "cell_type": "markdown",
   "id": "4ddd1c83-7f25-4344-9b8b-bd559338a1b1",
   "metadata": {},
   "source": [
    "Multiple Inheritence: the derived class inherits multiple base classes. e.g. Dog class inherits Animal class and LivingBeing class."
   ]
  },
  {
   "cell_type": "markdown",
   "id": "af5b238c-086e-48e2-87bc-507960dec643",
   "metadata": {},
   "source": [
    "Multilevel Inheritance: when there is a chain of inheritance. e.g. BabyDog class inherits the Dog class which again inherits the Animal\n",
    "class."
   ]
  },
  {
   "cell_type": "markdown",
   "id": "1dff9f35-aaa6-4498-8655-89d8f010fc04",
   "metadata": {},
   "source": [
    "Hierarchical Inheritance: when two or more class inherits a single class. e.g. Dog and Cat class inherits the Animal class"
   ]
  },
  {
   "cell_type": "markdown",
   "id": "961ee7ec-831b-4d09-8cbd-d7b9b031270b",
   "metadata": {},
   "source": [
    "Hybrid Inheritence: it can have the combination of different classes e.g. class A inherits class B, class B inherits class C and class D inherits from class B "
   ]
  },
  {
   "cell_type": "code",
   "execution_count": null,
   "id": "d8a53555-909c-4687-8bfa-d911b091e54e",
   "metadata": {},
   "outputs": [],
   "source": []
  }
 ],
 "metadata": {
  "kernelspec": {
   "display_name": "Python 3 (ipykernel)",
   "language": "python",
   "name": "python3"
  },
  "language_info": {
   "codemirror_mode": {
    "name": "ipython",
    "version": 3
   },
   "file_extension": ".py",
   "mimetype": "text/x-python",
   "name": "python",
   "nbconvert_exporter": "python",
   "pygments_lexer": "ipython3",
   "version": "3.10.8"
  }
 },
 "nbformat": 4,
 "nbformat_minor": 5
}
